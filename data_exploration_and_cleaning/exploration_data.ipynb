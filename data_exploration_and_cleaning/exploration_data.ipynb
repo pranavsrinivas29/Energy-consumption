{
 "cells": [
  {
   "cell_type": "code",
   "execution_count": 2,
   "metadata": {},
   "outputs": [],
   "source": [
    "import pandas as pd"
   ]
  },
  {
   "cell_type": "code",
   "execution_count": 7,
   "metadata": {},
   "outputs": [],
   "source": [
    "df_country = pd.read_csv('../data/Country_Consumption_TWH.csv')\n",
    "df_continent = pd.read_csv('../data/Continent_Consumption_TWH.csv')\n",
    "df_non_renew_pow_gen = pd.read_csv('../data/nonRenewablesTotalPowerGeneration.csv')\n",
    "df_renew_pow_gen = pd.read_csv('../data/renewablePowerGeneration97-17.csv')\n",
    "df_renew_tot_pow_gen = pd.read_csv('../data/renewablesTotalPowerGeneration.csv')\n",
    "df_top20__pow_gen = pd.read_csv('../data/top20CountriesPowerGeneration.csv')"
   ]
  },
  {
   "cell_type": "code",
   "execution_count": 8,
   "metadata": {},
   "outputs": [
    {
     "name": "stdout",
     "output_type": "stream",
     "text": [
      "Country:  45\n",
      "Continent:  0\n",
      "Non Renewable:  0\n",
      "Renewable:  0\n",
      "Total Pow Generation:  0\n",
      "Top 20 power Generation:  0\n"
     ]
    }
   ],
   "source": [
    "print('Country: ', df_country.isna().any().sum())\n",
    "print('Continent: ', df_continent.isna().any().sum())\n",
    "print('Non Renewable: ', df_non_renew_pow_gen.isna().any().sum())\n",
    "print('Renewable: ', df_renew_pow_gen.isna().any().sum())\n",
    "print('Total Pow Generation: ', df_renew_tot_pow_gen.isna().any().sum())\n",
    "print('Top 20 power Generation: ', df_top20__pow_gen.isna().any().sum())"
   ]
  },
  {
   "cell_type": "code",
   "execution_count": 18,
   "metadata": {},
   "outputs": [
    {
     "data": {
      "text/html": [
       "<div>\n",
       "<style scoped>\n",
       "    .dataframe tbody tr th:only-of-type {\n",
       "        vertical-align: middle;\n",
       "    }\n",
       "\n",
       "    .dataframe tbody tr th {\n",
       "        vertical-align: top;\n",
       "    }\n",
       "\n",
       "    .dataframe thead th {\n",
       "        text-align: right;\n",
       "    }\n",
       "</style>\n",
       "<table border=\"1\" class=\"dataframe\">\n",
       "  <thead>\n",
       "    <tr style=\"text-align: right;\">\n",
       "      <th></th>\n",
       "      <th>Year</th>\n",
       "      <th>China</th>\n",
       "      <th>United States</th>\n",
       "      <th>Brazil</th>\n",
       "      <th>Belgium</th>\n",
       "      <th>Czechia</th>\n",
       "      <th>France</th>\n",
       "      <th>Germany</th>\n",
       "      <th>Italy</th>\n",
       "      <th>Netherlands</th>\n",
       "      <th>...</th>\n",
       "      <th>Australia</th>\n",
       "      <th>New Zealand</th>\n",
       "      <th>Algeria</th>\n",
       "      <th>Egypt</th>\n",
       "      <th>Nigeria</th>\n",
       "      <th>South Africa</th>\n",
       "      <th>Iran</th>\n",
       "      <th>Kuwait</th>\n",
       "      <th>Saudi Arabia</th>\n",
       "      <th>United Arab Emirates</th>\n",
       "    </tr>\n",
       "  </thead>\n",
       "  <tbody>\n",
       "    <tr>\n",
       "      <th>31</th>\n",
       "      <td>NaN</td>\n",
       "      <td>NaN</td>\n",
       "      <td>NaN</td>\n",
       "      <td>NaN</td>\n",
       "      <td>NaN</td>\n",
       "      <td>NaN</td>\n",
       "      <td>NaN</td>\n",
       "      <td>NaN</td>\n",
       "      <td>NaN</td>\n",
       "      <td>NaN</td>\n",
       "      <td>...</td>\n",
       "      <td>NaN</td>\n",
       "      <td>NaN</td>\n",
       "      <td>NaN</td>\n",
       "      <td>NaN</td>\n",
       "      <td>NaN</td>\n",
       "      <td>NaN</td>\n",
       "      <td>NaN</td>\n",
       "      <td>NaN</td>\n",
       "      <td>NaN</td>\n",
       "      <td>NaN</td>\n",
       "    </tr>\n",
       "    <tr>\n",
       "      <th>32</th>\n",
       "      <td>NaN</td>\n",
       "      <td>NaN</td>\n",
       "      <td>NaN</td>\n",
       "      <td>NaN</td>\n",
       "      <td>NaN</td>\n",
       "      <td>NaN</td>\n",
       "      <td>NaN</td>\n",
       "      <td>NaN</td>\n",
       "      <td>NaN</td>\n",
       "      <td>NaN</td>\n",
       "      <td>...</td>\n",
       "      <td>NaN</td>\n",
       "      <td>NaN</td>\n",
       "      <td>NaN</td>\n",
       "      <td>NaN</td>\n",
       "      <td>NaN</td>\n",
       "      <td>NaN</td>\n",
       "      <td>NaN</td>\n",
       "      <td>NaN</td>\n",
       "      <td>NaN</td>\n",
       "      <td>NaN</td>\n",
       "    </tr>\n",
       "  </tbody>\n",
       "</table>\n",
       "<p>2 rows × 45 columns</p>\n",
       "</div>"
      ],
      "text/plain": [
       "    Year  China  United States  Brazil  Belgium  Czechia  France  Germany  \\\n",
       "31   NaN    NaN            NaN     NaN      NaN      NaN     NaN      NaN   \n",
       "32   NaN    NaN            NaN     NaN      NaN      NaN     NaN      NaN   \n",
       "\n",
       "    Italy  Netherlands  ...  Australia  New Zealand  Algeria  Egypt  Nigeria  \\\n",
       "31    NaN          NaN  ...        NaN          NaN      NaN    NaN      NaN   \n",
       "32    NaN          NaN  ...        NaN          NaN      NaN    NaN      NaN   \n",
       "\n",
       "    South Africa  Iran  Kuwait  Saudi Arabia  United Arab Emirates  \n",
       "31           NaN   NaN     NaN           NaN                   NaN  \n",
       "32           NaN   NaN     NaN           NaN                   NaN  \n",
       "\n",
       "[2 rows x 45 columns]"
      ]
     },
     "execution_count": 18,
     "metadata": {},
     "output_type": "execute_result"
    }
   ],
   "source": [
    "df_country[df_country.isna().any(axis=1)]"
   ]
  },
  {
   "cell_type": "code",
   "execution_count": null,
   "metadata": {},
   "outputs": [],
   "source": [
    "df_country.dropna(inplace=True)\n"
   ]
  },
  {
   "cell_type": "code",
   "execution_count": 20,
   "metadata": {},
   "outputs": [
    {
     "data": {
      "text/html": [
       "<div>\n",
       "<style scoped>\n",
       "    .dataframe tbody tr th:only-of-type {\n",
       "        vertical-align: middle;\n",
       "    }\n",
       "\n",
       "    .dataframe tbody tr th {\n",
       "        vertical-align: top;\n",
       "    }\n",
       "\n",
       "    .dataframe thead th {\n",
       "        text-align: right;\n",
       "    }\n",
       "</style>\n",
       "<table border=\"1\" class=\"dataframe\">\n",
       "  <thead>\n",
       "    <tr style=\"text-align: right;\">\n",
       "      <th></th>\n",
       "      <th>Year</th>\n",
       "      <th>China</th>\n",
       "      <th>United States</th>\n",
       "      <th>Brazil</th>\n",
       "      <th>Belgium</th>\n",
       "      <th>Czechia</th>\n",
       "      <th>France</th>\n",
       "      <th>Germany</th>\n",
       "      <th>Italy</th>\n",
       "      <th>Netherlands</th>\n",
       "      <th>...</th>\n",
       "      <th>Australia</th>\n",
       "      <th>New Zealand</th>\n",
       "      <th>Algeria</th>\n",
       "      <th>Egypt</th>\n",
       "      <th>Nigeria</th>\n",
       "      <th>South Africa</th>\n",
       "      <th>Iran</th>\n",
       "      <th>Kuwait</th>\n",
       "      <th>Saudi Arabia</th>\n",
       "      <th>United Arab Emirates</th>\n",
       "    </tr>\n",
       "  </thead>\n",
       "  <tbody>\n",
       "  </tbody>\n",
       "</table>\n",
       "<p>0 rows × 45 columns</p>\n",
       "</div>"
      ],
      "text/plain": [
       "Empty DataFrame\n",
       "Columns: [Year, China, United States, Brazil, Belgium, Czechia, France, Germany, Italy, Netherlands, Poland, Portugal, Romania, Spain, Sweden, United Kingdom, Norway, Turkey, Kazakhstan, Russia, Ukraine, Uzbekistan, Argentina, Canada, Chile, Colombia, Mexico, Venezuela, Indonesia, Japan, Malaysia, South Korea, Taiwan, Thailand, India, Australia, New Zealand, Algeria, Egypt, Nigeria, South Africa, Iran, Kuwait, Saudi Arabia, United Arab Emirates]\n",
       "Index: []\n",
       "\n",
       "[0 rows x 45 columns]"
      ]
     },
     "execution_count": 20,
     "metadata": {},
     "output_type": "execute_result"
    }
   ],
   "source": [
    "df_country[df_country.isna().any(axis=1)]"
   ]
  },
  {
   "cell_type": "code",
   "execution_count": 21,
   "metadata": {},
   "outputs": [],
   "source": [
    "df_country.to_csv('../data/Country_Consumption_TWH.csv')"
   ]
  }
 ],
 "metadata": {
  "kernelspec": {
   "display_name": "new_env",
   "language": "python",
   "name": "python3"
  },
  "language_info": {
   "codemirror_mode": {
    "name": "ipython",
    "version": 3
   },
   "file_extension": ".py",
   "mimetype": "text/x-python",
   "name": "python",
   "nbconvert_exporter": "python",
   "pygments_lexer": "ipython3",
   "version": "3.8.19"
  }
 },
 "nbformat": 4,
 "nbformat_minor": 2
}
