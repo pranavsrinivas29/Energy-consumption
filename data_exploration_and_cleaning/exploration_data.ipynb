{
 "cells": [
  {
   "cell_type": "code",
   "execution_count": 2,
   "metadata": {},
   "outputs": [],
   "source": [
    "import pandas as pd"
   ]
  },
  {
   "cell_type": "code",
   "execution_count": 59,
   "metadata": {},
   "outputs": [],
   "source": [
    "df_country = pd.read_csv('../data/Country_Consumption_TWH.csv')\n",
    "df_continent = pd.read_csv('../data/Continent_Consumption_TWH.csv')\n",
    "df_non_renew_pow_gen = pd.read_csv('../data/nonRenewablesTotalPowerGeneration.csv')\n",
    "df_renew_pow_gen = pd.read_csv('../data/renewablePowerGeneration97-17.csv')\n",
    "df_renew_tot_pow_gen = pd.read_csv('../data/renewablesTotalPowerGeneration.csv')\n",
    "df_top20__pow_gen = pd.read_csv('../data/top20CountriesPowerGeneration.csv')"
   ]
  },
  {
   "cell_type": "code",
   "execution_count": 8,
   "metadata": {},
   "outputs": [
    {
     "name": "stdout",
     "output_type": "stream",
     "text": [
      "Country:  45\n",
      "Continent:  0\n",
      "Non Renewable:  0\n",
      "Renewable:  0\n",
      "Total Pow Generation:  0\n",
      "Top 20 power Generation:  0\n"
     ]
    }
   ],
   "source": [
    "print('Country: ', df_country.isna().any().sum())\n",
    "print('Continent: ', df_continent.isna().any().sum())\n",
    "print('Non Renewable: ', df_non_renew_pow_gen.isna().any().sum())\n",
    "print('Renewable: ', df_renew_pow_gen.isna().any().sum())\n",
    "print('Total Pow Generation: ', df_renew_tot_pow_gen.isna().any().sum())\n",
    "print('Top 20 power Generation: ', df_top20__pow_gen.isna().any().sum())"
   ]
  },
  {
   "cell_type": "code",
   "execution_count": 20,
   "metadata": {},
   "outputs": [
    {
     "data": {
      "text/html": [
       "<div>\n",
       "<style scoped>\n",
       "    .dataframe tbody tr th:only-of-type {\n",
       "        vertical-align: middle;\n",
       "    }\n",
       "\n",
       "    .dataframe tbody tr th {\n",
       "        vertical-align: top;\n",
       "    }\n",
       "\n",
       "    .dataframe thead th {\n",
       "        text-align: right;\n",
       "    }\n",
       "</style>\n",
       "<table border=\"1\" class=\"dataframe\">\n",
       "  <thead>\n",
       "    <tr style=\"text-align: right;\">\n",
       "      <th></th>\n",
       "      <th>Year</th>\n",
       "      <th>China</th>\n",
       "      <th>United States</th>\n",
       "      <th>Brazil</th>\n",
       "      <th>Belgium</th>\n",
       "      <th>Czechia</th>\n",
       "      <th>France</th>\n",
       "      <th>Germany</th>\n",
       "      <th>Italy</th>\n",
       "      <th>Netherlands</th>\n",
       "      <th>...</th>\n",
       "      <th>Australia</th>\n",
       "      <th>New Zealand</th>\n",
       "      <th>Algeria</th>\n",
       "      <th>Egypt</th>\n",
       "      <th>Nigeria</th>\n",
       "      <th>South Africa</th>\n",
       "      <th>Iran</th>\n",
       "      <th>Kuwait</th>\n",
       "      <th>Saudi Arabia</th>\n",
       "      <th>United Arab Emirates</th>\n",
       "    </tr>\n",
       "  </thead>\n",
       "  <tbody>\n",
       "  </tbody>\n",
       "</table>\n",
       "<p>0 rows × 45 columns</p>\n",
       "</div>"
      ],
      "text/plain": [
       "Empty DataFrame\n",
       "Columns: [Year, China, United States, Brazil, Belgium, Czechia, France, Germany, Italy, Netherlands, Poland, Portugal, Romania, Spain, Sweden, United Kingdom, Norway, Turkey, Kazakhstan, Russia, Ukraine, Uzbekistan, Argentina, Canada, Chile, Colombia, Mexico, Venezuela, Indonesia, Japan, Malaysia, South Korea, Taiwan, Thailand, India, Australia, New Zealand, Algeria, Egypt, Nigeria, South Africa, Iran, Kuwait, Saudi Arabia, United Arab Emirates]\n",
       "Index: []\n",
       "\n",
       "[0 rows x 45 columns]"
      ]
     },
     "execution_count": 20,
     "metadata": {},
     "output_type": "execute_result"
    }
   ],
   "source": [
    "df_country[df_country.isna().any(axis=1)]"
   ]
  },
  {
   "cell_type": "code",
   "execution_count": 61,
   "metadata": {},
   "outputs": [],
   "source": [
    "def display_dfs():\n",
    "    print('Continent\\n', df_continent.head(2))\n",
    "    print('Country\\n', df_country.head(2))\n",
    "    print('Non Renew Power Generation\\n', df_non_renew_pow_gen.head(2))\n",
    "    print('Renew Power Generation\\n', df_renew_pow_gen.head(2))\n",
    "    print('Renew Total Power Generation\\n', df_renew_tot_pow_gen.head(2))\n",
    "    print('Renew Power Top 20 Generation\\n', df_top20__pow_gen.head(2))"
   ]
  },
  {
   "cell_type": "code",
   "execution_count": 35,
   "metadata": {},
   "outputs": [],
   "source": [
    "df_country.drop(columns=['Unnamed: 0'], inplace=True)"
   ]
  },
  {
   "cell_type": "code",
   "execution_count": null,
   "metadata": {},
   "outputs": [],
   "source": []
  },
  {
   "cell_type": "code",
   "execution_count": 43,
   "metadata": {},
   "outputs": [],
   "source": [
    "index_col='Year'\n",
    "if index_col in df_country.columns and (df_country.index.name is None or index_col not in df_country.index.name):\n",
    "        df_country.set_index(index_col, inplace=True, drop=True)"
   ]
  },
  {
   "cell_type": "code",
   "execution_count": 53,
   "metadata": {},
   "outputs": [],
   "source": [
    "def index_set(df, index_col='Year'):\n",
    "    if index_col in df.columns and (df.index.name is None or index_col not in df.index.name):   \n",
    "        df.set_index(index_col, inplace=True, drop=True)\n",
    "    if 'Unnamed: 0' in df.columns:\n",
    "        df.drop(columns=['Unnamed: 0'], inplace=True)\n",
    "\n"
   ]
  },
  {
   "cell_type": "code",
   "execution_count": 60,
   "metadata": {},
   "outputs": [],
   "source": [
    "index_set(df_country)\n",
    "index_set(df_continent)\n",
    "index_set(df_renew_pow_gen)\n",
    "\n",
    "index_set(df_non_renew_pow_gen, index_col='Mode of Generation')\n",
    "index_set(df_renew_tot_pow_gen, index_col='Mode of Generation')\n",
    "\n",
    "index_set(df_top20__pow_gen, 'Country')"
   ]
  },
  {
   "cell_type": "code",
   "execution_count": 62,
   "metadata": {},
   "outputs": [
    {
     "name": "stdout",
     "output_type": "stream",
     "text": [
      "Continent\n",
      "           World      OECD     BRICS    Europe  North America  Latin America  \\\n",
      "Year                                                                          \n",
      "1990  101855.54  52602.49  26621.07  20654.88       24667.23        5373.06   \n",
      "1991  102483.56  53207.25  26434.99  20631.62       24841.68        5500.99   \n",
      "\n",
      "          Asia  Pacific   Africa  Middle-East       CIS  \n",
      "Year                                                     \n",
      "1990  24574.19  1197.89  4407.77      2581.86  16049.40  \n",
      "1991  24783.53  1186.26  4535.70      2744.68  15898.21  \n",
      "Country\n",
      "         China  United States  Brazil  Belgium  Czechia  France  Germany  \\\n",
      "Year                                                                      \n",
      "1990.0  874.0         1910.0   141.0     48.0     50.0   225.0    351.0   \n",
      "1991.0  848.0         1925.0   143.0     50.0     45.0   237.0    344.0   \n",
      "\n",
      "        Italy  Netherlands  Poland  ...  Australia  New Zealand  Algeria  \\\n",
      "Year                                ...                                    \n",
      "1990.0  147.0         67.0   103.0  ...       86.0         14.0     22.0   \n",
      "1991.0  150.0         69.0   101.0  ...       85.0         14.0     23.0   \n",
      "\n",
      "        Egypt  Nigeria  South Africa  Iran  Kuwait  Saudi Arabia  \\\n",
      "Year                                                               \n",
      "1990.0   33.0     66.0          90.0  69.0     9.0          58.0   \n",
      "1991.0   33.0     70.0          92.0  77.0     3.0          68.0   \n",
      "\n",
      "        United Arab Emirates  \n",
      "Year                          \n",
      "1990.0                  20.0  \n",
      "1991.0                  23.0  \n",
      "\n",
      "[2 rows x 44 columns]\n",
      "Non Renew Power Generation\n",
      "                     Contribution (TWh)\n",
      "Mode of Generation                    \n",
      "Coal                           9863.33\n",
      "Natural Gas                    5882.82\n",
      "Renew Power Generation\n",
      "       Hydro(TWh)  Biofuel(TWh)  Solar PV (TWh)  Geothermal (TWh)\n",
      "Year                                                            \n",
      "1990     2191.67          3.88            0.09             36.42\n",
      "1991     2268.63          4.19            0.10             37.39\n",
      "Renew Total Power Generation\n",
      "                     Contribution (TWh)\n",
      "Mode of Generation                    \n",
      "Hydro                          9863.33\n",
      "Wind                           5882.82\n",
      "Renew Power Top 20 Generation\n",
      "          Hydro(TWh)  Biofuel(TWh)  Solar PV (TWh)  Geothermal (TWh)  \\\n",
      "Country                                                               \n",
      "China       1189.84        295.02           79.43             0.125   \n",
      "USA          315.62        277.91           58.95            18.960   \n",
      "\n",
      "         Total (TWh)  \n",
      "Country               \n",
      "China       1819.940  \n",
      "USA          758.619  \n"
     ]
    }
   ],
   "source": [
    "display_dfs()"
   ]
  },
  {
   "cell_type": "code",
   "execution_count": 65,
   "metadata": {},
   "outputs": [],
   "source": [
    "df_country.to_csv('../data/Country_Consumption_TWH.csv')\n",
    "df_continent.to_csv('../data/Continent_Consumption_TWH.csv')\n",
    "df_non_renew_pow_gen.to_csv('../data/nonRenewablesTotalPowerGeneration.csv')\n",
    "df_renew_pow_gen.to_csv('../data/renewablePowerGeneration97-17.csv')\n",
    "df_renew_tot_pow_gen.to_csv('../data/renewablesTotalPowerGeneration.csv')\n",
    "df_top20__pow_gen.to_csv('../data/top20CountriesPowerGeneration.csv')"
   ]
  }
 ],
 "metadata": {
  "kernelspec": {
   "display_name": "new_env",
   "language": "python",
   "name": "python3"
  },
  "language_info": {
   "codemirror_mode": {
    "name": "ipython",
    "version": 3
   },
   "file_extension": ".py",
   "mimetype": "text/x-python",
   "name": "python",
   "nbconvert_exporter": "python",
   "pygments_lexer": "ipython3",
   "version": "3.8.19"
  }
 },
 "nbformat": 4,
 "nbformat_minor": 2
}
